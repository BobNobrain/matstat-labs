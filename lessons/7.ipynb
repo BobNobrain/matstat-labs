{
 "cells": [
  {
   "cell_type": "markdown",
   "metadata": {},
   "source": [
    "# 7. Регрессионный анализ\n",
    "\n",
    "```\n",
    "Ауд.: 345(330), 350(335), 405(383)\n",
    "Д/З: 346(331), 351(336), 406(384)\n",
    "```"
   ]
  },
  {
   "cell_type": "markdown",
   "metadata": {},
   "source": [
    "## Линейная регрессия\n",
    "\n",
    "$$ M[Y|x] = f(x) = \\beta_{0} + \\beta_{1} x $$\n",
    "\n",
    "$$ Y = \\beta_{0} + \\beta_{1} x + \\varepsilon, $$\n",
    "\n",
    "$$ \\varepsilon \\sim N(0, \\sigma^2 (неизв)) $$\n",
    "\n",
    "МНК-оценки:\n",
    "\n",
    "$$ \\tilde{\\beta_1} = \\frac{Q_{xy}}{Q_{x}}, $$\n",
    "\n",
    "$$ Q_{xy} = \\sum (x_i - \\overline{x})(y_i - \\overline{y}), Q_{x} = \\sum (x_i - \\overline{x})^2 $$\n",
    "\n",
    "$$ \\tilde{\\beta_0} = \\overline{y} - \\tilde{\\beta_1} \\overline{x} $$\n",
    "\n",
    "$$ e_i = y_i - \\tilde{y_i} $$\n",
    "\n",
    "Остаточная сумма квадратов:\n",
    "\n",
    "$$ Q_e = \\sum e_i^2 = \\sum (y_i - \\tilde{y_i})^2 $$\n",
    "\n",
    "$$ Q_y = Q_R + Q_e, Q_y = \\sum y_i^2 - n \\overline{y}^2, Q_R = \\frac{Q^2_{xy}}{Q_x} $$\n",
    "\n",
    "$Q_R$ &mdash; сумма квадратов, обусловленная регрессией; $Q_e$ &mdash; остаточная сумма квадратов\n",
    "\n",
    "$$ s^2 = \\frac{Q_e}{n-2} $$\n",
    "\n",
    "### Значимость линейной регрессии\n",
    "\n",
    "Доверительный интервал для $\\beta_1$:\n",
    "\n",
    "$$ \\tilde{\\beta_1} \\pm t_{1 - \\alpha/2}(n - 2) s \\sqrt{\\frac{1}{Q_x}} $$\n",
    "\n",
    "Доверительный интервал для $\\beta_0$:\n",
    "\n",
    "$$ \\tilde{\\beta_0} \\pm t_{1 - \\alpha/2}(n - 2) s \\sqrt{\\frac{ \\sum x_i^2 }{ n Q_x }} $$\n",
    "\n",
    "Регрессия значима, если доверительный интервал для $\\beta_1$ не накрывает 0.\n",
    "\n",
    "Доверительный интервал для $\\overline{Y_0}(x = x_0)$:\n",
    "\n",
    "$$ \\tilde{y_0} \\pm t_{1 - \\alpha/2}(n - 2) s \\sqrt{\\frac{1}{n} + \\frac{ (x_0 - \\overline{x})^2 }{ Q_x }} $$"
   ]
  },
  {
   "cell_type": "code",
   "execution_count": 3,
   "metadata": {},
   "outputs": [
    {
     "name": "stdout",
     "output_type": "stream",
     "text": [
      "1.89457860506\n",
      "b1 +- 0.15564114248683683\n",
      "b0 +- 1.526403330710377\n"
     ]
    }
   ],
   "source": [
    "from scipy import stats\n",
    "import numpy as np\n",
    "\n",
    "alpha = 0.1\n",
    "\n",
    "Qe = 6.199\n",
    "Qx = 131.22\n",
    "n = 9\n",
    "beta1 = -1.057\n",
    "beta0 = 20.34\n",
    "\n",
    "q = stats.t(n-2).ppf(1 - alpha/2)\n",
    "\n",
    "print(q)\n",
    "\n",
    "s = np.sqrt(Qe / (n - 2))\n",
    "\n",
    "delta_beta1 = q*s*np.sqrt(1 / Qx)\n",
    "\n",
    "delta_beta0 = q*s*np.sqrt(865.63/n/Qx)\n",
    "\n",
    "print('b1 +- {}'.format(delta_beta1))\n",
    "print('b0 +- {}'.format(delta_beta0))"
   ]
  },
  {
   "cell_type": "markdown",
   "metadata": {},
   "source": [
    "## Криволинейная регрессия\n",
    "\n",
    "$$ M[Y|x] = \\beta_0 + \\beta_1 a_1(x) + ... + \\beta_{k-1} a_{k-1}(x), $$\n",
    "\n",
    "где $a_i$ - известные функции.\n",
    "\n",
    "МНК-оценки параметров регрессии:\n",
    "\n",
    "$$\n",
    "Y = \\begin{pmatrix}\n",
    "y_1 \\\\\n",
    "y_2 \\\\\n",
    "\\dots \\\\\n",
    "y_n\n",
    "\\end{pmatrix}\n",
    "$$\n",
    "\n",
    "$$\n",
    "A = \\begin{pmatrix}\n",
    "1     & a_1(x_1) & \\dots & a_{k-1}(x_1) \\\\\n",
    "1     & a_1(x_2) & \\dots & a_{k-1}(x_2) \\\\\n",
    "\\dots & \\dots    & \\dots & \\dots \\\\\n",
    "1     & a_1(x_n) & \\dots & a_{k-1}(x_n)\n",
    "\\end{pmatrix}\n",
    "$$\n",
    "\n",
    "$$\n",
    "\\beta = \\begin{pmatrix}\n",
    "\\beta_0 \\\\ \\beta_1 \\\\ \\dots \\\\ \\beta_{k-1}\n",
    "\\end{pmatrix}\n",
    "$$\n",
    "\n",
    "Тогда $ \\tilde{\\beta} = (A^T A)^{-1} A^T Y $"
   ]
  },
  {
   "cell_type": "code",
   "execution_count": 15,
   "metadata": {},
   "outputs": [
    {
     "name": "stdout",
     "output_type": "stream",
     "text": [
      "[[ 0.821  0.321  0.    -0.143 -0.107  0.107]\n",
      " [-0.295  0.002  0.164  0.193  0.087 -0.152]\n",
      " [ 0.022 -0.004 -0.018 -0.018 -0.004  0.022]]\n",
      "[ 4.         -2.16428571  0.26785714]\n"
     ]
    },
    {
     "data": {
      "image/png": "[encoded data removed]",
      "text/plain": [
       "<matplotlib.figure.Figure at 0x7fdd3c651048>"
      ]
     },
     "metadata": {
      "needs_background": "light"
     },
     "output_type": "display_data"
    }
   ],
   "source": [
    "%matplotlib inline\n",
    "import numpy as np\n",
    "import matplotlib.pyplot as plt\n",
    "\n",
    "x = np.array([0, 2, 4, 6, 8, 10])\n",
    "y = np.array([5, -1, -0.5, 1.5, 4.5, 8.5])\n",
    "\n",
    "plt.scatter(x, y)\n",
    "\n",
    "A = np.array([\n",
    "    [1, x_i, x_i ** 2] for x_i in x\n",
    "])\n",
    "\n",
    "beta = np.dot(np.dot(np.linalg.inv(np.dot(A.T, A)), A.T), y)\n",
    "\n",
    "print(\n",
    "    np.around(\n",
    "        np.dot(np.linalg.inv(np.dot(A.T, A)), A.T)\n",
    "    , 3)\n",
    ")\n",
    "print(beta)\n",
    "\n",
    "domain = np.linspace(min(x), max(x), 100)\n",
    "values = beta[0] + beta[1] * domain + beta[2] * domain ** 2\n",
    "\n",
    "plt.plot(domain, values);"
   ]
  },
  {
   "cell_type": "markdown",
   "metadata": {},
   "source": [
    "## Множественная линейная регрессия\n",
    "\n",
    "$$ y_i = \\beta_0 + \\beta_1 x_{1i} + \\beta_2 x_{2i} + \\varepsilon_i $$\n",
    "\n",
    "$Q_y = \\sum y_i^2 - \\frac{\\left( \\sum y_i \\right)^2}{n} $\n",
    "\n",
    "$Q_{x_j} = \\sum_i x_{ji}^2 - \\frac{\\left( \\sum x_{ji}^2 \\right)^2}{n} $\n",
    "\n",
    "$Q_{x_jy} = \\sum_i x_{ji} y_i - \\frac{\\left( \\sum_i x_{ji} \\right) \\left( \\sum y_{i} \\right)}{n} $\n",
    "\n",
    "$Q_{x_1 x_2} = \\sum_i x_{1i} x_{2i} - \\frac{\\left( \\sum_i x_{1i} \\right) \\left( \\sum x_{2i} \\right)}{n} $\n",
    "\n",
    "$$\n",
    "A^T A = \\begin{pmatrix}\n",
    "Q_{x_1} & Q_{x_1 x_2} \\\\\n",
    "Q_{x_1 x_2} & Q_{x_2}\n",
    "\\end{pmatrix}\n",
    "$$\n",
    "\n",
    "$$\n",
    "\\tilde{\\beta} = \\begin{pmatrix}\n",
    "Q_{x_2} & -Q_{x_1 x_2} \\\\\n",
    "-Q_{x_1 x_2} & Q_{x_1}\n",
    "\\end{pmatrix}\n",
    "\\begin{pmatrix}\n",
    "Q_{x_1 y} \\\\\n",
    "Q_{x_2 y}\n",
    "\\end{pmatrix}\n",
    "\\frac{1}{|A^T A|}\n",
    "$$\n",
    "\n",
    "$$ \\tilde{\\beta}_0 = \\overline{y} - \\tilde{\\beta}_1 \\overline{x_1} - \\tilde{\\beta}_2 \\overline{x_2}  $$\n"
   ]
  },
  {
   "cell_type": "markdown",
   "metadata": {},
   "source": [
    "### Значимость множественной регрессии\n",
    "\n",
    "$H0: \\beta_1 = \\beta_2 = 0$,\n",
    "\n",
    "$$ F = \\frac{\\tilde{\\beta}^T A^T Y/2}{Q_e / (n - 3)} < F_{1-\\alpha}(2, n-3) $$\n",
    "\n",
    "$H0: \\beta_j = 0$,\n",
    "\n",
    "$$ \\tilde{\\beta_j} \\pm t_{1 - \\alpha/2}(n - 3) s \\sqrt{a_{jj}}, $$\n",
    "\n",
    "где $a_{jj} = (A^T A)[j, j]$, $s = \\sqrt{\\frac{Q_e}{n - 3}}$\n"
   ]
  },
  {
   "cell_type": "markdown",
   "metadata": {},
   "source": [
    "Кф множественной корреляции $R = \\sqrt{\\frac{ \\tilde{\\beta}^T A^T Y }{ Q_y }}$, где\n",
    "\n",
    "$$\n",
    "A^T Y = \\begin{pmatrix}\n",
    "Q_{x_1 y} \\\\\n",
    "Q_{x_2 y} \\\\\n",
    "\\end{pmatrix}\n",
    "$$"
   ]
  },
  {
   "cell_type": "code",
   "execution_count": null,
   "metadata": {},
   "outputs": [],
   "source": [
    "import numpy as np\n",
    "\n",
    "x1 = np.array([1, 4, 0, 5, -3, 3, -5, -1, 2, -2])\n",
    "x2 = np.array([4, -6, 2, -4, 12, -2, 14, 6, 0, 8])\n",
    "y = np.array([-4, -5, 4, -1, 4, 0, 5, 1, 2, 7])\n",
    "\n",
    "n = len(y)\n",
    "\n",
    "Qy = np.sum(y ** 2) - np.sum(y) ** 2 / n\n",
    "Qx1 = np.sum(x1 ** 2) - np.sum(x1 ** 2) ** 2 / n\n",
    "Qx2 = np.sum(x2 ** 2) - np.sum(x2 ** 2) ** 2 / n\n",
    "Qx1y = np.sum(x1 * y) - np.sum(x1) * np.sum(y) / n"
   ]
  }
 ],
 "metadata": {
  "kernelspec": {
   "display_name": "Python 3",
   "language": "python",
   "name": "python3"
  },
  "language_info": {
   "codemirror_mode": {
    "name": "ipython",
    "version": 3
   },
   "file_extension": ".py",
   "mimetype": "text/x-python",
   "name": "python",
   "nbconvert_exporter": "python",
   "pygments_lexer": "ipython3",
   "version": "3.5.2"
  }
 },
 "nbformat": 4,
 "nbformat_minor": 2
}
